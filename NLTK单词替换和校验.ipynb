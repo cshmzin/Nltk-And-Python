{
  "nbformat": 4,
  "nbformat_minor": 0,
  "metadata": {
    "colab": {
      "name": "NLTK单词替换和检验.ipynb",
      "provenance": [],
      "authorship_tag": "ABX9TyPnhnDJCU1ANb25s99BGROL",
      "include_colab_link": true
    },
    "kernelspec": {
      "name": "python3",
      "display_name": "Python 3"
    },
    "language_info": {
      "name": "python"
    }
  },
  "cells": [
    {
      "cell_type": "markdown",
      "metadata": {
        "id": "view-in-github",
        "colab_type": "text"
      },
      "source": [
        "<a href=\"https://colab.research.google.com/github/cshmzin/Nltk-And-Python/blob/main/NLTK%E5%8D%95%E8%AF%8D%E6%9B%BF%E6%8D%A2%E5%92%8C%E6%A0%A1%E9%AA%8C.ipynb\" target=\"_parent\"><img src=\"https://colab.research.google.com/assets/colab-badge.svg\" alt=\"Open In Colab\"/></a>"
      ]
    },
    {
      "cell_type": "markdown",
      "metadata": {
        "id": "TQz9ZlxakR05"
      },
      "source": [
        "### 单词替换和检验\n",
        "* 词干还原\n",
        "* 词形还原\n",
        "* 拼写校验\n"
      ]
    },
    {
      "cell_type": "markdown",
      "metadata": {
        "id": "szCHsgAqk3OP"
      },
      "source": [
        "#### 词干还原"
      ]
    },
    {
      "cell_type": "code",
      "metadata": {
        "colab": {
          "base_uri": "https://localhost:8080/",
          "height": 34
        },
        "id": "1TUEQU1MkKKk",
        "outputId": "b94d6f92-d66d-4516-cae5-f010f3b45961"
      },
      "source": [
        "from nltk.stem import PorterStemmer\n",
        "stemmer = PorterStemmer()\n",
        "stemmer.stem('cooking')"
      ],
      "execution_count": 1,
      "outputs": [
        {
          "output_type": "execute_result",
          "data": {
            "application/vnd.google.colaboratory.intrinsic+json": {
              "type": "string"
            },
            "text/plain": [
              "'cook'"
            ]
          },
          "metadata": {
            "tags": []
          },
          "execution_count": 1
        }
      ]
    },
    {
      "cell_type": "code",
      "metadata": {
        "colab": {
          "base_uri": "https://localhost:8080/",
          "height": 34
        },
        "id": "EYp64_PVkfSP",
        "outputId": "b8a07f7d-6d01-4027-bf83-cce96c5bc82a"
      },
      "source": [
        "stemmer.stem('cookery')"
      ],
      "execution_count": 2,
      "outputs": [
        {
          "output_type": "execute_result",
          "data": {
            "application/vnd.google.colaboratory.intrinsic+json": {
              "type": "string"
            },
            "text/plain": [
              "'cookeri'"
            ]
          },
          "metadata": {
            "tags": []
          },
          "execution_count": 2
        }
      ]
    },
    {
      "cell_type": "code",
      "metadata": {
        "colab": {
          "base_uri": "https://localhost:8080/",
          "height": 34
        },
        "id": "jqI2GjOskh1X",
        "outputId": "3f33f5eb-615b-4490-c53a-6f597537e8ac"
      },
      "source": [
        "from nltk.stem import LancasterStemmer #(效果更好)\n",
        "stemmer = LancasterStemmer()\n",
        "stemmer.stem('cookery')"
      ],
      "execution_count": 3,
      "outputs": [
        {
          "output_type": "execute_result",
          "data": {
            "application/vnd.google.colaboratory.intrinsic+json": {
              "type": "string"
            },
            "text/plain": [
              "'cookery'"
            ]
          },
          "metadata": {
            "tags": []
          },
          "execution_count": 3
        }
      ]
    },
    {
      "cell_type": "markdown",
      "metadata": {
        "id": "9ZBdOMoWk8C2"
      },
      "source": [
        "#### 词形还原\n"
      ]
    },
    {
      "cell_type": "code",
      "metadata": {
        "colab": {
          "base_uri": "https://localhost:8080/",
          "height": 34
        },
        "id": "c71ALKZ6lBIO",
        "outputId": "e3e466e6-d353-4533-cbaf-3de450077343"
      },
      "source": [
        "from nltk.stem import WordNetLemmatizer\n",
        "import nltk\n",
        "#nltk.download('wordnet')\n",
        "\n",
        "lemmatizer = WordNetLemmatizer()\n",
        "lemmatizer.lemmatize('cooking')"
      ],
      "execution_count": 8,
      "outputs": [
        {
          "output_type": "execute_result",
          "data": {
            "application/vnd.google.colaboratory.intrinsic+json": {
              "type": "string"
            },
            "text/plain": [
              "'cooking'"
            ]
          },
          "metadata": {
            "tags": []
          },
          "execution_count": 8
        }
      ]
    },
    {
      "cell_type": "code",
      "metadata": {
        "colab": {
          "base_uri": "https://localhost:8080/",
          "height": 34
        },
        "id": "MmeiwegUk_1-",
        "outputId": "f150486f-d04f-43a1-c9de-fc879bd73336"
      },
      "source": [
        "lemmatizer.lemmatize('cooking', pos='v') # 默认为名词"
      ],
      "execution_count": 9,
      "outputs": [
        {
          "output_type": "execute_result",
          "data": {
            "application/vnd.google.colaboratory.intrinsic+json": {
              "type": "string"
            },
            "text/plain": [
              "'cook'"
            ]
          },
          "metadata": {
            "tags": []
          },
          "execution_count": 9
        }
      ]
    },
    {
      "cell_type": "code",
      "metadata": {
        "colab": {
          "base_uri": "https://localhost:8080/",
          "height": 34
        },
        "id": "z0Kop0QMlV5e",
        "outputId": "c3c0ea48-3e94-4c7b-cb21-d17caca6c529"
      },
      "source": [
        "lemmatizer.lemmatize('cookbooks')"
      ],
      "execution_count": 10,
      "outputs": [
        {
          "output_type": "execute_result",
          "data": {
            "application/vnd.google.colaboratory.intrinsic+json": {
              "type": "string"
            },
            "text/plain": [
              "'cookbook'"
            ]
          },
          "metadata": {
            "tags": []
          },
          "execution_count": 10
        }
      ]
    },
    {
      "cell_type": "markdown",
      "metadata": {
        "id": "bk4UtR5KmY_5"
      },
      "source": [
        "#### 拼写校验\n"
      ]
    },
    {
      "cell_type": "code",
      "metadata": {
        "colab": {
          "base_uri": "https://localhost:8080/",
          "height": 34
        },
        "id": "kP-SKP34lWje",
        "outputId": "9d6b3928-ea78-42bf-ef40-e31bcbac0e0f"
      },
      "source": [
        "#! easy_install pyenchant\n",
        "'''\n",
        "import enchant\n",
        "d = enchant.Dict('en')\n",
        "d.suggest('languege')\n",
        "'''"
      ],
      "execution_count": 14,
      "outputs": [
        {
          "output_type": "execute_result",
          "data": {
            "application/vnd.google.colaboratory.intrinsic+json": {
              "type": "string"
            },
            "text/plain": [
              "\"\\nimport enchant\\nd = enchant.Dict('en')\\nd.suggest('languege')\\n\""
            ]
          },
          "metadata": {
            "tags": []
          },
          "execution_count": 14
        }
      ]
    }
  ]
}