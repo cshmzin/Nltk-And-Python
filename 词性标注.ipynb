{
  "nbformat": 4,
  "nbformat_minor": 0,
  "metadata": {
    "colab": {
      "name": "词性标注.ipynb",
      "provenance": [],
      "authorship_tag": "ABX9TyOkCzX3Z5P+gB3qK7OJTOW/",
      "include_colab_link": true
    },
    "kernelspec": {
      "name": "python3",
      "display_name": "Python 3"
    },
    "language_info": {
      "name": "python"
    }
  },
  "cells": [
    {
      "cell_type": "markdown",
      "metadata": {
        "id": "view-in-github",
        "colab_type": "text"
      },
      "source": [
        "<a href=\"https://colab.research.google.com/github/cshmzin/Nltk-And-Python/blob/main/%E8%AF%8D%E6%80%A7%E6%A0%87%E6%B3%A8.ipynb\" target=\"_parent\"><img src=\"https://colab.research.google.com/assets/colab-badge.svg\" alt=\"Open In Colab\"/></a>"
      ]
    },
    {
      "cell_type": "markdown",
      "metadata": {
        "id": "jrHm1ta7pXpP"
      },
      "source": [
        "### 词性标注"
      ]
    },
    {
      "cell_type": "code",
      "metadata": {
        "colab": {
          "base_uri": "https://localhost:8080/"
        },
        "id": "h1aj3tR9o_qJ",
        "outputId": "5fde6edf-bf0f-41e2-aacf-73285f3287e8"
      },
      "source": [
        "import nltk\n",
        "from nltk.corpus import stopwords\n",
        "from nltk.corpus import brown\n",
        "import numpy as np\n",
        "#nltk.download('punkt')\n",
        "#nltk.download('stopwords')\n",
        " \n",
        "#分词\n",
        "text = \"Sentiment analysis is a challenging subject in machine learning.\\\n",
        " People express their emotions in language that is often obscured by sarcasm,\\\n",
        "  ambiguity, and plays on words, all of which could be very misleading for \\\n",
        "  both humans and computers.\".lower()\n",
        "text_list = nltk.word_tokenize(text)\n",
        "#去掉标点符号\n",
        "english_punctuations = [',', '.', ':', ';', '?', '(', ')', '[', ']', '&', '!', '*', '@', '#', '$', '%']\n",
        "text_list = [word for word in text_list if word not in english_punctuations]\n",
        "#去掉停用词\n",
        "stops = set(stopwords.words(\"english\"))\n",
        "text_list = [word for word in text_list if word not in stops]\n",
        "print(text_list)"
      ],
      "execution_count": 6,
      "outputs": [
        {
          "output_type": "stream",
          "text": [
            "['sentiment', 'analysis', 'challenging', 'subject', 'machine', 'learning', 'people', 'express', 'emotions', 'language', 'often', 'obscured', 'sarcasm', 'ambiguity', 'plays', 'words', 'could', 'misleading', 'humans', 'computers']\n"
          ],
          "name": "stdout"
        }
      ]
    },
    {
      "cell_type": "code",
      "metadata": {
        "colab": {
          "base_uri": "https://localhost:8080/"
        },
        "id": "Dxc7W6Rzqxm_",
        "outputId": "2d12e6cf-8213-4712-ee84-3863c28395ef"
      },
      "source": [
        "#nltk.download('averaged_perceptron_tagger')\n",
        "nltk.pos_tag(text_list)"
      ],
      "execution_count": 9,
      "outputs": [
        {
          "output_type": "execute_result",
          "data": {
            "text/plain": [
              "[('sentiment', 'NN'),\n",
              " ('analysis', 'NN'),\n",
              " ('challenging', 'VBG'),\n",
              " ('subject', 'JJ'),\n",
              " ('machine', 'NN'),\n",
              " ('learning', 'VBG'),\n",
              " ('people', 'NNS'),\n",
              " ('express', 'JJ'),\n",
              " ('emotions', 'NNS'),\n",
              " ('language', 'NN'),\n",
              " ('often', 'RB'),\n",
              " ('obscured', 'VBD'),\n",
              " ('sarcasm', 'JJ'),\n",
              " ('ambiguity', 'NN'),\n",
              " ('plays', 'NNS'),\n",
              " ('words', 'NNS'),\n",
              " ('could', 'MD'),\n",
              " ('misleading', 'VB'),\n",
              " ('humans', 'NNS'),\n",
              " ('computers', 'NNS')]"
            ]
          },
          "metadata": {
            "tags": []
          },
          "execution_count": 9
        }
      ]
    },
    {
      "cell_type": "code",
      "metadata": {
        "id": "Ixoeza_5rLGN"
      },
      "source": [
        ""
      ],
      "execution_count": null,
      "outputs": []
    }
  ]
}